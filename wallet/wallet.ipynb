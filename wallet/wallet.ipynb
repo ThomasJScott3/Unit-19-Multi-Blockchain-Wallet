{
 "cells": [
  {
   "cell_type": "code",
   "execution_count": 23,
   "metadata": {},
   "outputs": [
    {
     "data": {
      "text/plain": [
       "True"
      ]
     },
     "execution_count": 23,
     "metadata": {},
     "output_type": "execute_result"
    }
   ],
   "source": [
    "# Name: Thomas Scott\n",
    "# Unit 19: Blockchain Wallet\n",
    "# Late submission\n",
    "\n",
    "# Import libraries\n",
    "import subprocess\n",
    "import json\n",
    "import os\n",
    "from constants import *\n",
    "from dotenv import load_dotenv\n",
    "from bipwallet import wallet\n",
    "from web3 import Web3\n",
    "from eth_account import Account\n",
    "from bit import PrivateKeyTestnet\n",
    "from bit.network import NetworkAPI\n",
    "from web3.middleware import geth_poa_middleware\n",
    "from web3.gas_strategies.time_based import medium_gas_price_strategy\n",
    "\n",
    "load_dotenv()"
   ]
  },
  {
   "cell_type": "code",
   "execution_count": 24,
   "metadata": {},
   "outputs": [
    {
     "name": "stdout",
     "output_type": "stream",
     "text": [
      "novel foot access crisp photo quiz suspect obey loud village speed exile\n"
     ]
    }
   ],
   "source": [
    "# import your mnemonic key from your local env file\n",
    "\n",
    "mnemonic = os.getenv('MNEMONIC')\n",
    "print(mnemonic)"
   ]
  },
  {
   "cell_type": "code",
   "execution_count": 25,
   "metadata": {},
   "outputs": [],
   "source": [
    "# This will connect you to your local ETH testnet \n",
    "\n",
    "w3 = Web3(Web3.HTTPProvider('http://127.0.0.1:8545'))\n",
    "\n",
    "w3.middleware_onion.inject(geth_poa_middleware, layer=0)\n",
    "\n",
    "w3.eth.setGasPriceStrategy(medium_gas_price_strategy)"
   ]
  },
  {
   "cell_type": "code",
   "execution_count": 27,
   "metadata": {},
   "outputs": [],
   "source": [
    "# This function will derive the new wallets using hd-wallet-derive and PHP\n",
    "\n",
    "def derive_wallets(mnemonic, coin, numderive):\n",
    "    \n",
    "    command = f'php ./hd-wallet-derive/hd-wallet-derive.php -g --mnemonic=\"{mnemonic}\" --numderive=\"{numderive}\" --coin=\"{coin}\" --format=json' \n",
    "    \n",
    "    p = subprocess.Popen(command, stdout=subprocess.PIPE, shell=True)\n",
    "    \n",
    "    (output, err) = p.communicate()\n",
    "   \n",
    "    keys = json.loads(output)\n",
    "    \n",
    "    return  keys"
   ]
  },
  {
   "cell_type": "code",
   "execution_count": 28,
   "metadata": {},
   "outputs": [
    {
     "data": {
      "text/plain": [
       "[{'path': \"m/44'/0'/0'/0/0\",\n",
       "  'address': '16ZxGx4dQ9Gu5gNHSTHChHZhkt9ZZZCazi',\n",
       "  'xprv': 'xprvA4BysqMVf7kyTHveMZhMfyy71M7Cu1e65yyZwikqzzSqhcKDGKbwy7JA2agLwAopGo47HGtMjRtw1HDqvPcqwnrBmpjtFEb3k1J8qLQJfeT',\n",
       "  'xpub': 'xpub6HBLHLtPVVKGfn17TbEN37uqZNwhJUMwTCuAk7ATZKypaQeMorvCWucdspNdiTsgvyUNkzepQAXXDWdSsqhtXA5NxhtR73sudoAESEyhWWb',\n",
       "  'privkey': 'L4kvRAmvKEF6HZ6PfrRp3T2nWzijhmuUADEExAFDjm35KwnJ3G81',\n",
       "  'pubkey': '0230ff3dcc3a656fabf91d0013860ae5c94333e495f75c0540c9864c76a2a06b26',\n",
       "  'pubkeyhash': '3d1414b809aae8a4504532f763cd243fb41c1d1c',\n",
       "  'index': 0},\n",
       " {'path': \"m/44'/0'/0'/0/1\",\n",
       "  'address': '14nfeZNEt1Cwudca6J8ZgHWi4EpyDCGmXH',\n",
       "  'xprv': 'xprvA4BysqMVf7kyVuprZ8PZxQHwzACWzKcQkzmHw58reej2KmNmCmy19P5gCWABrhKYT2k5WUGx3YjysUwiLLrQL8jCf4Fmo6p3t9q3knqjySU',\n",
       "  'xpub': 'xpub6HBLHLtPVVKGiPuKf9vaKYEgYC31PnLG8DgtjTYUCzG1CZhukKHFhBQA3nSAK6WTgWvur9F8RStZT7SRUCBaFKXFqRWKMWNWefxm1tfjoCv',\n",
       "  'privkey': 'L2CSPpCKTjNwRNgc93eZiope1koTZMaYvK23hT6xfekNfwunLrzW',\n",
       "  'pubkey': '03387cd314b5c3fc90aa8a030d88349f1e8814a27ad9e9de643908767c7fa43809',\n",
       "  'pubkeyhash': '298b5b634c0f639245dc6d98e837094edbef9469',\n",
       "  'index': 1},\n",
       " {'path': \"m/44'/0'/0'/0/2\",\n",
       "  'address': '1Donnt2WVWskAnnXqRFgKs3EbB3vKCkNaj',\n",
       "  'xprv': 'xprvA4BysqMVf7kyZ3iChshSqZpUAXQ6ZRt8CzySB3XGRjyR851oWNGyTWPSnrMpQrNJeyiXD2d7pPcARr17wGyCU1TPjEN8PBN92wvtvVSujpR',\n",
       "  'xpub': 'xpub6HBLHLtPVVKGmXnfouETChmCiZEaxtbyaDu2yRvsz5WPzsLx3ubE1Jhve8cUWdvKW7nRgJEJUvDi6atwa71g88Q1y1tjjfvgSZ3e7m1pTAz',\n",
       "  'privkey': 'L4Nbkxe4iu4dzZaLNQygpnm9HFcM1SzbG5tCDoT5GwcGtqF2vA33',\n",
       "  'pubkey': '0376668ebcf12468dc3cde7d32963c8543ddedc3d99a5a63d69c14d88692a7349a',\n",
       "  'pubkeyhash': '8c7ade3a262465a70cef5794eb3c603e9627c076',\n",
       "  'index': 2}]"
      ]
     },
     "execution_count": 28,
     "metadata": {},
     "output_type": "execute_result"
    }
   ],
   "source": [
    "# Next we will test our function to make sure it gives us the output we are looking for\n",
    "\n",
    "derive_wallets(mnemonic, 'BTC', 3)"
   ]
  },
  {
   "cell_type": "code",
   "execution_count": 29,
   "metadata": {},
   "outputs": [],
   "source": [
    "# This function will essentially objectify the 'privkey' string into an account object.\n",
    "\n",
    "def priv_key_to_account(coin,priv_key):\n",
    "    \n",
    "    print(coin)\n",
    "    \n",
    "    print(priv_key)\n",
    "    \n",
    "    if coin == ETH:\n",
    "        return Account.privateKeyToAccount(priv_key)\n",
    "    \n",
    "    elif coin == BTCTEST:\n",
    "        return PrivateKeyTestnet(priv_key)"
   ]
  },
  {
   "cell_type": "code",
   "execution_count": 31,
   "metadata": {},
   "outputs": [],
   "source": [
    "# Define the function that generates the raw, unsigned transaction.\n",
    "\n",
    "def create_tx(coin,account, recipient, amount):\n",
    "\n",
    "    # This part is obviously for etherium\n",
    "    if coin == ETH: \n",
    "        gasEstimate = w3.eth.estimateGas(\n",
    "            {\"from\":eth_acc.address, \"to\":recipient, \"value\": amount}\n",
    "        )\n",
    "        \n",
    "        return { \n",
    "            \"from\": eth_acc.address,\n",
    "            \"to\": recipient,\n",
    "            \"value\": amount,\n",
    "            \"gasPrice\": w3.eth.gasPrice,\n",
    "            \"gas\": gasEstimate,\n",
    "            \"nonce\": w3.eth.getTransactionCount(eth_acc.address)\n",
    "        }\n",
    "    \n",
    "    # This handles when the coin is of type btc or btc-test\n",
    "    elif coin == BTCTEST:\n",
    "        return PrivateKeyTestnet.prepare_transaction(account.address, [(recipient, amount, BTC)])"
   ]
  },
  {
   "cell_type": "code",
   "execution_count": 32,
   "metadata": {},
   "outputs": [
    {
     "name": "stdout",
     "output_type": "stream",
     "text": [
      "eth\n",
      "0xba9dafd1b2c0d856fb4200d3a274b2c62edfba1b6bfba405f7ac7dc59a44adb0\n"
     ]
    }
   ],
   "source": [
    "# Next we will create a variable to hold our ETH private key\n",
    "\n",
    "eth_acc = priv_key_to_account(ETH, derive_wallets(mnemonic, ETH,5)[0]['privkey'])"
   ]
  },
  {
   "cell_type": "code",
   "execution_count": 33,
   "metadata": {},
   "outputs": [],
   "source": [
    "# This function will create a transaction, sign the it, then send it to the designated network.\n",
    "\n",
    "def send_tx(coin,account,recipient, amount):\n",
    "    \n",
    "    txn = create_tx(coin, account, recipient, amount)\n",
    "    \n",
    "    # Ether logic\n",
    "    if coin == ETH:\n",
    "        \n",
    "        signed_txn = eth_acc.sign_transaction(txn)\n",
    "        \n",
    "        result = w3.eth.sendRawTransaction(signed_txn.rawTransaction)\n",
    "        \n",
    "        print(result.hex())\n",
    "        \n",
    "        return result.hex()\n",
    "    \n",
    "    # Logic for BTC or BTC-Test\n",
    "    elif coin == BTCTEST:\n",
    "        \n",
    "        tx_btctest = create_tx(coin, account, recipient, amount)\n",
    "        \n",
    "        signed_txn = account.sign_transaction(txn)\n",
    "        \n",
    "        print(signed_txn)\n",
    "        \n",
    "        return NetworkAPI.broadcast_tx_testnet(signed_txn)"
   ]
  },
  {
   "cell_type": "code",
   "execution_count": 89,
   "metadata": {},
   "outputs": [],
   "source": [
    "# BTC TEST"
   ]
  },
  {
   "cell_type": "code",
   "execution_count": 35,
   "metadata": {},
   "outputs": [],
   "source": [
    "# Initialize constants. I saw no need to call them from the python file. I suppose it is more modular the other way.\n",
    "\n",
    "coins = {\"eth\", \"btc-test\", \"btc\"}\n",
    "\n",
    "numderive = 3"
   ]
  },
  {
   "cell_type": "code",
   "execution_count": 36,
   "metadata": {},
   "outputs": [],
   "source": [
    "# Create a dictionary of keys.\n",
    "\n",
    "keys = {}\n",
    "\n",
    "#  Populate them with accounts encompassing the different coin types I have specified.\n",
    "for coin in coins:\n",
    "    keys[coin]= derive_wallets(mnemonic, coin, numderive)"
   ]
  },
  {
   "cell_type": "code",
   "execution_count": null,
   "metadata": {},
   "outputs": [],
   "source": [
    "# Generate private keys for bitcoin and ether\n",
    "\n",
    "eth_PrivKey = keys[\"eth\"][0]['privkey']\n",
    "\n",
    "btc_PrivKey = keys['btc-test'][0]['privkey']"
   ]
  },
  {
   "cell_type": "code",
   "execution_count": 37,
   "metadata": {},
   "outputs": [
    {
     "name": "stdout",
     "output_type": "stream",
     "text": [
      "\"0xba9dafd1b2c0d856fb4200d3a274b2c62edfba1b6bfba405f7ac7dc59a44adb0\"\n",
      "\"cSRb3ZvfsjZo123dXkKRTbaYFCoF5ZBgyHAEULiAjXpwKHNjxDWK\"\n"
     ]
    }
   ],
   "source": [
    "# Print out the private keys for both\n",
    "\n",
    "print(json.dumps(eth_PriveKey, indent=4, sort_keys=True))\n",
    "\n",
    "print(json.dumps(btc_PrivKey, indent=4, sort_keys=True))"
   ]
  },
  {
   "cell_type": "code",
   "execution_count": 38,
   "metadata": {},
   "outputs": [
    {
     "name": "stdout",
     "output_type": "stream",
     "text": [
      "{\n",
      "    \"btc\": [\n",
      "        {\n",
      "            \"address\": \"16ZxGx4dQ9Gu5gNHSTHChHZhkt9ZZZCazi\",\n",
      "            \"index\": 0,\n",
      "            \"path\": \"m/44'/0'/0'/0/0\",\n",
      "            \"privkey\": \"L4kvRAmvKEF6HZ6PfrRp3T2nWzijhmuUADEExAFDjm35KwnJ3G81\",\n",
      "            \"pubkey\": \"0230ff3dcc3a656fabf91d0013860ae5c94333e495f75c0540c9864c76a2a06b26\",\n",
      "            \"pubkeyhash\": \"3d1414b809aae8a4504532f763cd243fb41c1d1c\",\n",
      "            \"xprv\": \"xprvA4BysqMVf7kyTHveMZhMfyy71M7Cu1e65yyZwikqzzSqhcKDGKbwy7JA2agLwAopGo47HGtMjRtw1HDqvPcqwnrBmpjtFEb3k1J8qLQJfeT\",\n",
      "            \"xpub\": \"xpub6HBLHLtPVVKGfn17TbEN37uqZNwhJUMwTCuAk7ATZKypaQeMorvCWucdspNdiTsgvyUNkzepQAXXDWdSsqhtXA5NxhtR73sudoAESEyhWWb\"\n",
      "        },\n",
      "        {\n",
      "            \"address\": \"14nfeZNEt1Cwudca6J8ZgHWi4EpyDCGmXH\",\n",
      "            \"index\": 1,\n",
      "            \"path\": \"m/44'/0'/0'/0/1\",\n",
      "            \"privkey\": \"L2CSPpCKTjNwRNgc93eZiope1koTZMaYvK23hT6xfekNfwunLrzW\",\n",
      "            \"pubkey\": \"03387cd314b5c3fc90aa8a030d88349f1e8814a27ad9e9de643908767c7fa43809\",\n",
      "            \"pubkeyhash\": \"298b5b634c0f639245dc6d98e837094edbef9469\",\n",
      "            \"xprv\": \"xprvA4BysqMVf7kyVuprZ8PZxQHwzACWzKcQkzmHw58reej2KmNmCmy19P5gCWABrhKYT2k5WUGx3YjysUwiLLrQL8jCf4Fmo6p3t9q3knqjySU\",\n",
      "            \"xpub\": \"xpub6HBLHLtPVVKGiPuKf9vaKYEgYC31PnLG8DgtjTYUCzG1CZhukKHFhBQA3nSAK6WTgWvur9F8RStZT7SRUCBaFKXFqRWKMWNWefxm1tfjoCv\"\n",
      "        },\n",
      "        {\n",
      "            \"address\": \"1Donnt2WVWskAnnXqRFgKs3EbB3vKCkNaj\",\n",
      "            \"index\": 2,\n",
      "            \"path\": \"m/44'/0'/0'/0/2\",\n",
      "            \"privkey\": \"L4Nbkxe4iu4dzZaLNQygpnm9HFcM1SzbG5tCDoT5GwcGtqF2vA33\",\n",
      "            \"pubkey\": \"0376668ebcf12468dc3cde7d32963c8543ddedc3d99a5a63d69c14d88692a7349a\",\n",
      "            \"pubkeyhash\": \"8c7ade3a262465a70cef5794eb3c603e9627c076\",\n",
      "            \"xprv\": \"xprvA4BysqMVf7kyZ3iChshSqZpUAXQ6ZRt8CzySB3XGRjyR851oWNGyTWPSnrMpQrNJeyiXD2d7pPcARr17wGyCU1TPjEN8PBN92wvtvVSujpR\",\n",
      "            \"xpub\": \"xpub6HBLHLtPVVKGmXnfouETChmCiZEaxtbyaDu2yRvsz5WPzsLx3ubE1Jhve8cUWdvKW7nRgJEJUvDi6atwa71g88Q1y1tjjfvgSZ3e7m1pTAz\"\n",
      "        }\n",
      "    ],\n",
      "    \"btc-test\": [\n",
      "        {\n",
      "            \"address\": \"mtWmTgmtbTCKtaxeks4Gh58WgwpCjv6mAQ\",\n",
      "            \"index\": 0,\n",
      "            \"path\": \"m/44'/1'/0'/0/0\",\n",
      "            \"privkey\": \"cSRb3ZvfsjZo123dXkKRTbaYFCoF5ZBgyHAEULiAjXpwKHNjxDWK\",\n",
      "            \"pubkey\": \"0310f72ca09b7b5c95b30500ee3a28ccf604140926ebce57cfc9219d724818a292\",\n",
      "            \"pubkeyhash\": \"8e90976baf3f8ea0c7728c7a9723eaf562d50e68\",\n",
      "            \"xprv\": \"tprv8jEZeC6T41V5QiJPUhF3pkkZuss4CZDG9uDBgt5MiqauPLknvzJoKX42svKWTtbm5Cpk6yW1rHc45D3kjwsC72N2wPySN8G6YQQ6wqVM2ee\",\n",
      "            \"xpub\": \"tpubDFvbnc8hCPAkJBLBNLueEAQgUuNzMtQAjCoxyQ7f97PJDq1ZZP8PW1fu44EywjHa4FrfWysVWmjSbBgFFXsuun1jWsMmDMccDmJeYLM8cxQ\"\n",
      "        },\n",
      "        {\n",
      "            \"address\": \"mkk5aqK2ZqueLN1WbLjMEQgBwc4HiWnqtM\",\n",
      "            \"index\": 1,\n",
      "            \"path\": \"m/44'/1'/0'/0/1\",\n",
      "            \"privkey\": \"cSNwYUihnAJgiogQspBMELUoEQ6aou7iEE2rMqHQCaPTvdeS3VJw\",\n",
      "            \"pubkey\": \"03db6d6f9f615dc842d9718244740ed91b4f4f89f42d1b43b36c249a50f63ff1cc\",\n",
      "            \"pubkeyhash\": \"39541f08d0bfe43951a0ba429435f530340b7c14\",\n",
      "            \"xprv\": \"tprv8jEZeC6T41V5U26NFCH7nWde2Ln7cU5zhoWGHYRv2v5BvPhwnSykxj5bEbzgrPshy83RFZbb5wCkP9HKZK61LDEQCyCSFZg9pf2N7TiVcYr\",\n",
      "            \"xpub\": \"tpubDFvbnc8hCPAkMV8A8qwiBvHkbNJ3moGuH773a4UDTBsaksxiQqoM9DhTQmTvjF97aiADztXsj5Lr5SqNhLjVPcnYK9HdF7jUUvpgDsNbQdD\"\n",
      "        },\n",
      "        {\n",
      "            \"address\": \"mp7Hb4SiiFmRTgeU6RVRb8BBB47DQSnN3q\",\n",
      "            \"index\": 2,\n",
      "            \"path\": \"m/44'/1'/0'/0/2\",\n",
      "            \"privkey\": \"cRjhRtUxwZLamqLE1fwS2F2BCYTLBUyy89wGdDbWCJv5EPcCD29F\",\n",
      "            \"pubkey\": \"03b6679d9de31482e3046fe3137bb03074525dd6d3d1b6373ede042ed6ffda7a25\",\n",
      "            \"pubkeyhash\": \"5e3f410ec313fb8ab798dc794e8bd7a37863da90\",\n",
      "            \"xprv\": \"tprv8jEZeC6T41V5WsjtPy32ViSsXU2wmq3trVWw8k6GDKQDUWSNaSMucE92G5SmrKfMQohzDHdWAwzdkLQBjHii6KprdNxhUbY8GcHZkQJxWdQ\",\n",
      "            \"xpub\": \"tpubDFvbnc8hCPAkQLmgHchcu86z6VYswAEoRo7iRG8ZdbCcJzh9CqBVniktSEn9S3NSD6G657jnQnYKHKmMt3QnC9wjFdyVzhRaPggPzwwEvwX\"\n",
      "        }\n",
      "    ],\n",
      "    \"eth\": [\n",
      "        {\n",
      "            \"address\": \"0xf34A0b44dD795a72d5863E576595cA3C9853f44a\",\n",
      "            \"index\": 0,\n",
      "            \"path\": \"m/44'/60'/0'/0/0\",\n",
      "            \"privkey\": \"0xba9dafd1b2c0d856fb4200d3a274b2c62edfba1b6bfba405f7ac7dc59a44adb0\",\n",
      "            \"pubkey\": \"03a35ede872ec98b27e19cbebd793e4d703eaae0299c1d55062e68460d62997851\",\n",
      "            \"pubkeyhash\": \"4a3dbac5f2f1192eefdf080dea2cf69609022b62\",\n",
      "            \"xprv\": \"xprvA2ckXZsHCMfg9egiYsdvrF5Fx5d5jCtSiD746tAXbEayCVSQwwLvM5GvA3VDTRCVSj9akMcTM2mXqxpuFjr6D5WPZKWa1iGiyVLavsnamKL\",\n",
      "            \"xpub\": \"xpub6Fc6w5QB2jDyN8mBeuAwDP1zW7Ta8fcJ5S2euGa99a7x5HmZVUfAtsbQ1LHVJWV4839TGyVHzUkEtf2pK4yDvvjCQ8UxNJNXbRxDBWT1tc9\"\n",
      "        },\n",
      "        {\n",
      "            \"address\": \"0x1aB25345CeAB9a9E2F7a2c67D758293F13c942a7\",\n",
      "            \"index\": 1,\n",
      "            \"path\": \"m/44'/60'/0'/0/1\",\n",
      "            \"privkey\": \"0x658459f11898d22d7b773799418a69a27bf75b00dd45f58d94aaf57869e947e4\",\n",
      "            \"pubkey\": \"0325e1f6fa63785c2660df4c34cb58750b16b6796dcb82c74d453bdf5c6ed7c950\",\n",
      "            \"pubkeyhash\": \"4e08404926007ed6e7a47dc81c20f1553b0c9722\",\n",
      "            \"xprv\": \"xprvA2ckXZsHCMfgC9GBEXqMEbSaWdJ1af4F4KgqrQcnnnxNWpmr9b5i12Fsjv4MWCYGbNhH7yh5Sw7LRX82MVNdSyE2UwwNTp26jZ1CCKeZXQT\",\n",
      "            \"xpub\": \"xpub6Fc6w5QB2jDyQdLeLZNMbjPK4f8Vz7n6RYcSeo2QM8VMPd6zh8PxYpaMbCYqfmvGWDSQCfRz6wxU4RWriTtzGJQBMU5uHQQ1KcqhZ2gxzNm\"\n",
      "        },\n",
      "        {\n",
      "            \"address\": \"0x20aAacDE548299CF00D69DF2020C24Fc3eD3ae1f\",\n",
      "            \"index\": 2,\n",
      "            \"path\": \"m/44'/60'/0'/0/2\",\n",
      "            \"privkey\": \"0xef68c6444cb47d80760c1b07c4c8e9e7a48e7f1c501aa23a901d2fcd03ead224\",\n",
      "            \"pubkey\": \"032cd6b8b2dd8e4b378597fe15a4a785106e69202854a152291e6771a73bedc0d0\",\n",
      "            \"pubkeyhash\": \"f224c948cacd4d6b8eec63155aabdd90936cdcac\",\n",
      "            \"xprv\": \"xprvA2ckXZsHCMfgFnMGYpWRWw1C4CKCM22Qyimpt6h5KTKs67PAmfwYMki9CVSvU5SfFUbCLfEzXRkXZ4ggce8wuCkfArMeg9oHua1vfq9Quwa\",\n",
      "            \"xpub\": \"xpub6Fc6w5QB2jDyUGRjer3Rt4wvcE9gkUkGLwhRgV6gsnrqxuiKKDFnuZ2d3kwk3U2R9kYee4VY7rBKZe6Dx7mCcZaC6kinvD67UpakWwt4P3B\"\n",
      "        }\n",
      "    ]\n",
      "}\n"
     ]
    }
   ],
   "source": [
    "# Show all accounts with their addresses and keys\n",
    "print(json.dumps(keys, indent=4, sort_keys=True))"
   ]
  },
  {
   "cell_type": "code",
   "execution_count": 39,
   "metadata": {},
   "outputs": [
    {
     "name": "stdout",
     "output_type": "stream",
     "text": [
      "btc-test\n",
      "cSRb3ZvfsjZo123dXkKRTbaYFCoF5ZBgyHAEULiAjXpwKHNjxDWK\n"
     ]
    }
   ],
   "source": [
    "# Initialize a btc private key\n",
    "\n",
    "btc_acc = priv_key_to_account(BTCTEST,btc_PrivKey)"
   ]
  },
  {
   "cell_type": "code",
   "execution_count": 44,
   "metadata": {},
   "outputs": [
    {
     "data": {
      "text/plain": [
       "'{\"unspents\":[{\"amount\":100000,\"confirmations\":1,\"script\":\"76a9148e90976baf3f8ea0c7728c7a9723eaf562d50e6888ac\",\"txid\":\"ed218c866715ac20fa9b8c963f535406046709d74c9c7a336ea23493dd9f9848\",\"txindex\":1,\"type\":\"p2pkh\",\"vsize\":148,\"segwit\":false,\"sequence\":4294967295}],\"outputs\":[[\"mtWmTgmtbTCKtaxeks4Gh58WgwpCjv6mAQ\",50000],[\"mtWmTgmtbTCKtaxeks4Gh58WgwpCjv6mAQ\",26948]]}'"
      ]
     },
     "execution_count": 44,
     "metadata": {},
     "output_type": "execute_result"
    }
   ],
   "source": [
    "# Create a sample transaction using funds from a bitcoin faucet\n",
    "# NOTE: You must fill up for it to work (https://testnet-faucet.mempool.co/)\n",
    "\n",
    "create_tx(BTCTEST,btc_acc,\"mtWmTgmtbTCKtaxeks4Gh58WgwpCjv6mAQ\", 0.0005)"
   ]
  },
  {
   "cell_type": "code",
   "execution_count": 45,
   "metadata": {},
   "outputs": [
    {
     "name": "stdout",
     "output_type": "stream",
     "text": [
      "010000000148989fdd9334a26e337a9c4cd70967040654533f968c9bfa20ac1567868c21ed010000006a473044022062f04170045465b9e5236b130c43d22188b8a27b0b31b8361355e90030c59ee202200e16bf5cccca2ba487328da698d322b0a56c6a92760505c2b9c7b9800cd6d21301210310f72ca09b7b5c95b30500ee3a28ccf604140926ebce57cfc9219d724818a292ffffffff0250c30000000000001976a91439541f08d0bfe43951a0ba429435f530340b7c1488ac44690000000000001976a9148e90976baf3f8ea0c7728c7a9723eaf562d50e6888ac00000000\n"
     ]
    }
   ],
   "source": [
    "# shift your coins between btc accounts\n",
    "\n",
    "send_tx(BTCTEST,btc_acc,\"mkk5aqK2ZqueLN1WbLjMEQgBwc4HiWnqtM\", 0.0005)"
   ]
  },
  {
   "cell_type": "code",
   "execution_count": 46,
   "metadata": {},
   "outputs": [],
   "source": [
    "# ETH Tests"
   ]
  },
  {
   "cell_type": "code",
   "execution_count": 47,
   "metadata": {},
   "outputs": [],
   "source": [
    "# Connect to your ether testnet\n",
    "# Note: I reused my testnet from the last assignment for the sake of time.\n",
    "\n",
    "w3 = Web3(Web3.HTTPProvider(\"http://127.0.0.1:8545/0xba9dafd1b2c0d856fb4200d3a274b2c62edfba1b6bfba405f7ac7dc59a44adb0\"))\n"
   ]
  },
  {
   "cell_type": "code",
   "execution_count": 48,
   "metadata": {},
   "outputs": [
    {
     "data": {
      "text/plain": [
       "True"
      ]
     },
     "execution_count": 48,
     "metadata": {},
     "output_type": "execute_result"
    }
   ],
   "source": [
    "# Return a boolean to signify whether we are connected to your local testnet\n",
    "w3.isConnected()\n"
   ]
  },
  {
   "cell_type": "code",
   "execution_count": 68,
   "metadata": {},
   "outputs": [
    {
     "data": {
      "text/plain": [
       "180925139433306555349329664076074856020734351000000000000000000000"
      ]
     },
     "execution_count": 68,
     "metadata": {},
     "output_type": "execute_result"
    }
   ],
   "source": [
    "# Return the balance for your primary ETH wallet\n",
    "# Note: I topped off this wallet with coins mines from the last assignment. I couldn't get the instructor's web.py \n",
    "# alteration to work.\n",
    "\n",
    "w3.eth.getBalance(\"0xf34A0b44dD795a72d5863E576595cA3C9853f44a\")\n"
   ]
  },
  {
   "cell_type": "code",
   "execution_count": 84,
   "metadata": {},
   "outputs": [
    {
     "data": {
      "text/plain": [
       "{'from': '0xf34A0b44dD795a72d5863E576595cA3C9853f44a',\n",
       " 'to': '0x268C8620F9a994410040D9B6DBE1E203451542c8',\n",
       " 'value': 18092513943330655534932,\n",
       " 'gasPrice': 60000000000,\n",
       " 'gas': 21000,\n",
       " 'nonce': 3}"
      ]
     },
     "execution_count": 84,
     "metadata": {},
     "output_type": "execute_result"
    }
   ],
   "source": [
    "# Send a coins to an empty account in your testnet. \n",
    "# Note: I reused the wallet I emptied at the end of the last assignment for efficiency\n",
    "\n",
    "create_tx(ETH, eth_acc,\"0x268C8620F9a994410040D9B6DBE1E203451542c8\", 18092513943330655534932)"
   ]
  },
  {
   "cell_type": "code",
   "execution_count": 85,
   "metadata": {},
   "outputs": [
    {
     "name": "stdout",
     "output_type": "stream",
     "text": [
      "0x36a1d69b4b0243d6f37f35a22b6c9ab8e7ee083d68b562f1f4dede48dac750cb\n"
     ]
    },
    {
     "data": {
      "text/plain": [
       "'0x36a1d69b4b0243d6f37f35a22b6c9ab8e7ee083d68b562f1f4dede48dac750cb'"
      ]
     },
     "execution_count": 85,
     "metadata": {},
     "output_type": "execute_result"
    }
   ],
   "source": [
    "# Send the ETH to an account in your testnet\n",
    "\n",
    "send_tx(ETH, eth_acc,\"0x268C8620F9a994410040D9B6DBE1E203451542c8\", 18092513943330655534932)"
   ]
  },
  {
   "cell_type": "code",
   "execution_count": 88,
   "metadata": {},
   "outputs": [
    {
     "data": {
      "text/plain": [
       "18092638331387208470032"
      ]
     },
     "execution_count": 88,
     "metadata": {},
     "output_type": "execute_result"
    }
   ],
   "source": [
    "# Check the balance of the recipient wallet. Bear in mind the gas fee. This matches the final screenshot (decimal point not withstanding)\n",
    "w3.eth.getBalance(\"0x268C8620F9a994410040D9B6DBE1E203451542c8\")\n"
   ]
  },
  {
   "cell_type": "code",
   "execution_count": null,
   "metadata": {},
   "outputs": [],
   "source": []
  }
 ],
 "metadata": {
  "kernelspec": {
   "display_name": "Python 3",
   "language": "python",
   "name": "python3"
  },
  "language_info": {
   "codemirror_mode": {
    "name": "ipython",
    "version": 3
   },
   "file_extension": ".py",
   "mimetype": "text/x-python",
   "name": "python",
   "nbconvert_exporter": "python",
   "pygments_lexer": "ipython3",
   "version": "3.8.5"
  }
 },
 "nbformat": 4,
 "nbformat_minor": 4
}
